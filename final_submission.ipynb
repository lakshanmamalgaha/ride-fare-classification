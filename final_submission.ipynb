{
  "nbformat": 4,
  "nbformat_minor": 0,
  "metadata": {
    "colab": {
      "name": "final_submission.ipynb",
      "provenance": [],
      "collapsed_sections": [
        "VDKZUL32Ed7R",
        "KO-RWq_DEcDv",
        "-wMdk02HFTxh",
        "WAsv_RTwEPbW",
        "nMjM2NaiEJJe",
        "b6z15FgWFzH5",
        "7Mr2arWdkFNM"
      ],
      "toc_visible": true,
      "mount_file_id": "1DuopVweEx4s1H0JxHq_I6-6WnimwbaQh",
      "authorship_tag": "ABX9TyMcRRm0K0tDtKh2Z941egOa",
      "include_colab_link": true
    },
    "kernelspec": {
      "name": "python3",
      "display_name": "Python 3"
    }
  },
  "cells": [
    {
      "cell_type": "markdown",
      "metadata": {
        "id": "view-in-github",
        "colab_type": "text"
      },
      "source": [
        "<a href=\"https://colab.research.google.com/github/lakshanmamalgaha/ride-fare-classification/blob/master/final_submission.ipynb\" target=\"_parent\"><img src=\"https://colab.research.google.com/assets/colab-badge.svg\" alt=\"Open In Colab\"/></a>"
      ]
    },
    {
      "cell_type": "code",
      "metadata": {
        "id": "cwVoROpCdjxn",
        "colab_type": "code",
        "colab": {
          "base_uri": "https://localhost:8080/",
          "height": 313
        },
        "outputId": "b7faddb1-ce99-4da9-ec0a-399c4a034c47"
      },
      "source": [
        "import pandas as pd\n",
        "import numpy as np\n",
        "import matplotlib.pyplot as plt\n",
        "import seaborn as sns\n",
        "from sklearn.ensemble import RandomForestClassifier\n",
        "from sklearn.preprocessing import StandardScaler, LabelEncoder\n",
        "\n",
        "test_data = \"test.csv\"\n",
        "test = pd.read_csv(test_data)\n",
        "\n",
        "train_data = \"train.csv\"\n",
        "train = pd.read_csv(train_data)\n",
        "\n",
        "train.head()"
      ],
      "execution_count": null,
      "outputs": [
        {
          "output_type": "execute_result",
          "data": {
            "text/html": [
              "<div>\n",
              "<style scoped>\n",
              "    .dataframe tbody tr th:only-of-type {\n",
              "        vertical-align: middle;\n",
              "    }\n",
              "\n",
              "    .dataframe tbody tr th {\n",
              "        vertical-align: top;\n",
              "    }\n",
              "\n",
              "    .dataframe thead th {\n",
              "        text-align: right;\n",
              "    }\n",
              "</style>\n",
              "<table border=\"1\" class=\"dataframe\">\n",
              "  <thead>\n",
              "    <tr style=\"text-align: right;\">\n",
              "      <th></th>\n",
              "      <th>tripid</th>\n",
              "      <th>additional_fare</th>\n",
              "      <th>duration</th>\n",
              "      <th>meter_waiting</th>\n",
              "      <th>meter_waiting_fare</th>\n",
              "      <th>meter_waiting_till_pickup</th>\n",
              "      <th>pickup_time</th>\n",
              "      <th>drop_time</th>\n",
              "      <th>pick_lat</th>\n",
              "      <th>pick_lon</th>\n",
              "      <th>drop_lat</th>\n",
              "      <th>drop_lon</th>\n",
              "      <th>fare</th>\n",
              "      <th>label</th>\n",
              "    </tr>\n",
              "  </thead>\n",
              "  <tbody>\n",
              "    <tr>\n",
              "      <th>0</th>\n",
              "      <td>189123628</td>\n",
              "      <td>10.5</td>\n",
              "      <td>834.0</td>\n",
              "      <td>56.0</td>\n",
              "      <td>0.0000</td>\n",
              "      <td>64.0</td>\n",
              "      <td>11/1/2019 0:20</td>\n",
              "      <td>11/1/2019 0:34</td>\n",
              "      <td>6.86252</td>\n",
              "      <td>79.8993</td>\n",
              "      <td>6.90330</td>\n",
              "      <td>79.8783</td>\n",
              "      <td>270.32</td>\n",
              "      <td>correct</td>\n",
              "    </tr>\n",
              "    <tr>\n",
              "      <th>1</th>\n",
              "      <td>189125358</td>\n",
              "      <td>10.5</td>\n",
              "      <td>791.0</td>\n",
              "      <td>47.0</td>\n",
              "      <td>0.0000</td>\n",
              "      <td>134.0</td>\n",
              "      <td>11/1/2019 0:56</td>\n",
              "      <td>11/1/2019 1:09</td>\n",
              "      <td>6.88589</td>\n",
              "      <td>79.8984</td>\n",
              "      <td>6.91373</td>\n",
              "      <td>79.8923</td>\n",
              "      <td>197.85</td>\n",
              "      <td>correct</td>\n",
              "    </tr>\n",
              "    <tr>\n",
              "      <th>2</th>\n",
              "      <td>189125719</td>\n",
              "      <td>10.5</td>\n",
              "      <td>1087.0</td>\n",
              "      <td>80.0</td>\n",
              "      <td>0.0000</td>\n",
              "      <td>61.0</td>\n",
              "      <td>11/1/2019 1:08</td>\n",
              "      <td>11/1/2019 1:26</td>\n",
              "      <td>6.90839</td>\n",
              "      <td>79.8651</td>\n",
              "      <td>6.93669</td>\n",
              "      <td>79.9146</td>\n",
              "      <td>301.64</td>\n",
              "      <td>correct</td>\n",
              "    </tr>\n",
              "    <tr>\n",
              "      <th>3</th>\n",
              "      <td>189127273</td>\n",
              "      <td>10.5</td>\n",
              "      <td>598.0</td>\n",
              "      <td>271.0</td>\n",
              "      <td>15.6638</td>\n",
              "      <td>68.0</td>\n",
              "      <td>11/1/2019 2:27</td>\n",
              "      <td>11/1/2019 2:37</td>\n",
              "      <td>6.92570</td>\n",
              "      <td>79.8895</td>\n",
              "      <td>6.92748</td>\n",
              "      <td>79.8971</td>\n",
              "      <td>82.30</td>\n",
              "      <td>correct</td>\n",
              "    </tr>\n",
              "    <tr>\n",
              "      <th>4</th>\n",
              "      <td>189128020</td>\n",
              "      <td>NaN</td>\n",
              "      <td>NaN</td>\n",
              "      <td>NaN</td>\n",
              "      <td>NaN</td>\n",
              "      <td>NaN</td>\n",
              "      <td>11/1/2019 3:34</td>\n",
              "      <td>11/1/2019 3:51</td>\n",
              "      <td>6.87441</td>\n",
              "      <td>79.8615</td>\n",
              "      <td>6.84478</td>\n",
              "      <td>79.9290</td>\n",
              "      <td>358.39</td>\n",
              "      <td>correct</td>\n",
              "    </tr>\n",
              "  </tbody>\n",
              "</table>\n",
              "</div>"
            ],
            "text/plain": [
              "      tripid  additional_fare  duration  ...  drop_lon    fare    label\n",
              "0  189123628             10.5     834.0  ...   79.8783  270.32  correct\n",
              "1  189125358             10.5     791.0  ...   79.8923  197.85  correct\n",
              "2  189125719             10.5    1087.0  ...   79.9146  301.64  correct\n",
              "3  189127273             10.5     598.0  ...   79.8971   82.30  correct\n",
              "4  189128020              NaN       NaN  ...   79.9290  358.39  correct\n",
              "\n",
              "[5 rows x 14 columns]"
            ]
          },
          "metadata": {
            "tags": []
          },
          "execution_count": 12
        }
      ]
    },
    {
      "cell_type": "code",
      "metadata": {
        "id": "qi-RSHkkgGZ9",
        "colab_type": "code",
        "colab": {
          "base_uri": "https://localhost:8080/",
          "height": 399
        },
        "outputId": "730bbbe7-8372-4ea1-f947-749e89835286"
      },
      "source": [
        "train.info()"
      ],
      "execution_count": null,
      "outputs": [
        {
          "output_type": "stream",
          "text": [
            "<class 'pandas.core.frame.DataFrame'>\n",
            "RangeIndex: 17176 entries, 0 to 17175\n",
            "Data columns (total 14 columns):\n",
            " #   Column                     Non-Null Count  Dtype  \n",
            "---  ------                     --------------  -----  \n",
            " 0   tripid                     17176 non-null  int64  \n",
            " 1   additional_fare            16974 non-null  float64\n",
            " 2   duration                   16974 non-null  float64\n",
            " 3   meter_waiting              16974 non-null  float64\n",
            " 4   meter_waiting_fare         16974 non-null  float64\n",
            " 5   meter_waiting_till_pickup  16974 non-null  float64\n",
            " 6   pickup_time                17176 non-null  object \n",
            " 7   drop_time                  17176 non-null  object \n",
            " 8   pick_lat                   17176 non-null  float64\n",
            " 9   pick_lon                   17176 non-null  float64\n",
            " 10  drop_lat                   17176 non-null  float64\n",
            " 11  drop_lon                   17176 non-null  float64\n",
            " 12  fare                       17039 non-null  float64\n",
            " 13  label                      17176 non-null  object \n",
            "dtypes: float64(10), int64(1), object(3)\n",
            "memory usage: 1.8+ MB\n"
          ],
          "name": "stdout"
        }
      ]
    },
    {
      "cell_type": "code",
      "metadata": {
        "id": "Nel5BqRRga9d",
        "colab_type": "code",
        "colab": {
          "base_uri": "https://localhost:8080/",
          "height": 313
        },
        "outputId": "3cbac814-2eb1-4b01-9c22-e9b7605f0c55"
      },
      "source": [
        "train['pickup_time'] = pd.to_datetime(train['pickup_time'],format='%m/%d/%Y %H:%M')\n",
        "train.head()"
      ],
      "execution_count": null,
      "outputs": [
        {
          "output_type": "execute_result",
          "data": {
            "text/html": [
              "<div>\n",
              "<style scoped>\n",
              "    .dataframe tbody tr th:only-of-type {\n",
              "        vertical-align: middle;\n",
              "    }\n",
              "\n",
              "    .dataframe tbody tr th {\n",
              "        vertical-align: top;\n",
              "    }\n",
              "\n",
              "    .dataframe thead th {\n",
              "        text-align: right;\n",
              "    }\n",
              "</style>\n",
              "<table border=\"1\" class=\"dataframe\">\n",
              "  <thead>\n",
              "    <tr style=\"text-align: right;\">\n",
              "      <th></th>\n",
              "      <th>tripid</th>\n",
              "      <th>additional_fare</th>\n",
              "      <th>duration</th>\n",
              "      <th>meter_waiting</th>\n",
              "      <th>meter_waiting_fare</th>\n",
              "      <th>meter_waiting_till_pickup</th>\n",
              "      <th>pickup_time</th>\n",
              "      <th>drop_time</th>\n",
              "      <th>pick_lat</th>\n",
              "      <th>pick_lon</th>\n",
              "      <th>drop_lat</th>\n",
              "      <th>drop_lon</th>\n",
              "      <th>fare</th>\n",
              "      <th>label</th>\n",
              "    </tr>\n",
              "  </thead>\n",
              "  <tbody>\n",
              "    <tr>\n",
              "      <th>0</th>\n",
              "      <td>189123628</td>\n",
              "      <td>10.5</td>\n",
              "      <td>834.0</td>\n",
              "      <td>56.0</td>\n",
              "      <td>0.0000</td>\n",
              "      <td>64.0</td>\n",
              "      <td>2019-11-01 00:20:00</td>\n",
              "      <td>11/1/2019 0:34</td>\n",
              "      <td>6.86252</td>\n",
              "      <td>79.8993</td>\n",
              "      <td>6.90330</td>\n",
              "      <td>79.8783</td>\n",
              "      <td>270.32</td>\n",
              "      <td>correct</td>\n",
              "    </tr>\n",
              "    <tr>\n",
              "      <th>1</th>\n",
              "      <td>189125358</td>\n",
              "      <td>10.5</td>\n",
              "      <td>791.0</td>\n",
              "      <td>47.0</td>\n",
              "      <td>0.0000</td>\n",
              "      <td>134.0</td>\n",
              "      <td>2019-11-01 00:56:00</td>\n",
              "      <td>11/1/2019 1:09</td>\n",
              "      <td>6.88589</td>\n",
              "      <td>79.8984</td>\n",
              "      <td>6.91373</td>\n",
              "      <td>79.8923</td>\n",
              "      <td>197.85</td>\n",
              "      <td>correct</td>\n",
              "    </tr>\n",
              "    <tr>\n",
              "      <th>2</th>\n",
              "      <td>189125719</td>\n",
              "      <td>10.5</td>\n",
              "      <td>1087.0</td>\n",
              "      <td>80.0</td>\n",
              "      <td>0.0000</td>\n",
              "      <td>61.0</td>\n",
              "      <td>2019-11-01 01:08:00</td>\n",
              "      <td>11/1/2019 1:26</td>\n",
              "      <td>6.90839</td>\n",
              "      <td>79.8651</td>\n",
              "      <td>6.93669</td>\n",
              "      <td>79.9146</td>\n",
              "      <td>301.64</td>\n",
              "      <td>correct</td>\n",
              "    </tr>\n",
              "    <tr>\n",
              "      <th>3</th>\n",
              "      <td>189127273</td>\n",
              "      <td>10.5</td>\n",
              "      <td>598.0</td>\n",
              "      <td>271.0</td>\n",
              "      <td>15.6638</td>\n",
              "      <td>68.0</td>\n",
              "      <td>2019-11-01 02:27:00</td>\n",
              "      <td>11/1/2019 2:37</td>\n",
              "      <td>6.92570</td>\n",
              "      <td>79.8895</td>\n",
              "      <td>6.92748</td>\n",
              "      <td>79.8971</td>\n",
              "      <td>82.30</td>\n",
              "      <td>correct</td>\n",
              "    </tr>\n",
              "    <tr>\n",
              "      <th>4</th>\n",
              "      <td>189128020</td>\n",
              "      <td>NaN</td>\n",
              "      <td>NaN</td>\n",
              "      <td>NaN</td>\n",
              "      <td>NaN</td>\n",
              "      <td>NaN</td>\n",
              "      <td>2019-11-01 03:34:00</td>\n",
              "      <td>11/1/2019 3:51</td>\n",
              "      <td>6.87441</td>\n",
              "      <td>79.8615</td>\n",
              "      <td>6.84478</td>\n",
              "      <td>79.9290</td>\n",
              "      <td>358.39</td>\n",
              "      <td>correct</td>\n",
              "    </tr>\n",
              "  </tbody>\n",
              "</table>\n",
              "</div>"
            ],
            "text/plain": [
              "      tripid  additional_fare  duration  ...  drop_lon    fare    label\n",
              "0  189123628             10.5     834.0  ...   79.8783  270.32  correct\n",
              "1  189125358             10.5     791.0  ...   79.8923  197.85  correct\n",
              "2  189125719             10.5    1087.0  ...   79.9146  301.64  correct\n",
              "3  189127273             10.5     598.0  ...   79.8971   82.30  correct\n",
              "4  189128020              NaN       NaN  ...   79.9290  358.39  correct\n",
              "\n",
              "[5 rows x 14 columns]"
            ]
          },
          "metadata": {
            "tags": []
          },
          "execution_count": 3
        }
      ]
    },
    {
      "cell_type": "code",
      "metadata": {
        "id": "5hxvjWPZh66i",
        "colab_type": "code",
        "colab": {}
      },
      "source": [
        ""
      ],
      "execution_count": null,
      "outputs": []
    },
    {
      "cell_type": "code",
      "metadata": {
        "id": "iEwsC92kh7PY",
        "colab_type": "code",
        "colab": {
          "base_uri": "https://localhost:8080/",
          "height": 290
        },
        "outputId": "6e12f633-8b63-476c-cdee-503ccb3907a3"
      },
      "source": [
        "#checking for missing values\n",
        "#train[pd.isnull(train)].sum()\n",
        "train.isnull().sum()"
      ],
      "execution_count": null,
      "outputs": [
        {
          "output_type": "execute_result",
          "data": {
            "text/plain": [
              "tripid                         0\n",
              "additional_fare              202\n",
              "duration                     202\n",
              "meter_waiting                202\n",
              "meter_waiting_fare           202\n",
              "meter_waiting_till_pickup    202\n",
              "pickup_time                    0\n",
              "drop_time                      0\n",
              "pick_lat                       0\n",
              "pick_lon                       0\n",
              "drop_lat                       0\n",
              "drop_lon                       0\n",
              "fare                         137\n",
              "label                          0\n",
              "dtype: int64"
            ]
          },
          "metadata": {
            "tags": []
          },
          "execution_count": 4
        }
      ]
    },
    {
      "cell_type": "code",
      "metadata": {
        "id": "uWMiM9RjgI96",
        "colab_type": "code",
        "colab": {}
      },
      "source": [
        ""
      ],
      "execution_count": null,
      "outputs": []
    },
    {
      "cell_type": "code",
      "metadata": {
        "id": "KgaiD01-idHs",
        "colab_type": "code",
        "colab": {}
      },
      "source": [
        "plt.figure(figsize=(8,5))\n",
        "sns.kdeplot(train['fare']).set_title(\"Distribution of Trip Fare\")"
      ],
      "execution_count": null,
      "outputs": []
    },
    {
      "cell_type": "code",
      "metadata": {
        "id": "9s9AIps7kVXq",
        "colab_type": "code",
        "colab": {
          "base_uri": "https://localhost:8080/",
          "height": 35
        },
        "outputId": "874f1604-59f7-4837-870e-154421875d0e"
      },
      "source": [
        "train=train.loc[train['fare']>0]\n",
        "train.shape"
      ],
      "execution_count": null,
      "outputs": [
        {
          "output_type": "execute_result",
          "data": {
            "text/plain": [
              "(17025, 14)"
            ]
          },
          "metadata": {
            "tags": []
          },
          "execution_count": 18
        }
      ]
    },
    {
      "cell_type": "code",
      "metadata": {
        "id": "ZsaferD1kyaz",
        "colab_type": "code",
        "colab": {}
      },
      "source": [
        "plt.figure(figsize=(8,5))\n",
        "sns.kdeplot(np.log(train['fare'])).set_title(\"Distribution of Trip Fare(log scale)\")"
      ],
      "execution_count": null,
      "outputs": []
    },
    {
      "cell_type": "code",
      "metadata": {
        "id": "P-eR-rlxH-6A",
        "colab_type": "code",
        "colab": {
          "base_uri": "https://localhost:8080/",
          "height": 355
        },
        "outputId": "97c4c2e2-97ea-4fcc-d3ea-2e031e828952"
      },
      "source": [
        "\n",
        "train['label'].value_counts().plot(kind='bar')\n",
        "train['label'].value_counts()"
      ],
      "execution_count": null,
      "outputs": [
        {
          "output_type": "execute_result",
          "data": {
            "text/plain": [
              "correct      15495\n",
              "incorrect     1681\n",
              "Name: label, dtype: int64"
            ]
          },
          "metadata": {
            "tags": []
          },
          "execution_count": 11
        },
        {
          "output_type": "display_data",
          "data": {
            "image/png": "[encoded data removed]",
            "text/plain": [
              "<Figure size 432x288 with 1 Axes>"
            ]
          },
          "metadata": {
            "tags": [],
            "needs_background": "light"
          }
        }
      ]
    },
    {
      "cell_type": "markdown",
      "metadata": {
        "id": "m_zQT2iFJskg",
        "colab_type": "text"
      },
      "source": [
        "Dataset shows that there were 15495 correct fares and 1681 incorrect fares"
      ]
    },
    {
      "cell_type": "code",
      "metadata": {
        "id": "G_haogdjI86g",
        "colab_type": "code",
        "colab": {
          "base_uri": "https://localhost:8080/",
          "height": 283
        },
        "outputId": "94969e4f-703f-496d-b068-bbccb375f0bb"
      },
      "source": [
        "train['fare'].hist()"
      ],
      "execution_count": null,
      "outputs": [
        {
          "output_type": "execute_result",
          "data": {
            "text/plain": [
              "<matplotlib.axes._subplots.AxesSubplot at 0x7f89a1768eb8>"
            ]
          },
          "metadata": {
            "tags": []
          },
          "execution_count": 12
        },
        {
          "output_type": "display_data",
          "data": {
            "image/png": "[encoded data removed]",
            "text/plain": [
              "<Figure size 432x288 with 1 Axes>"
            ]
          },
          "metadata": {
            "tags": [],
            "needs_background": "light"
          }
        }
      ]
    },
    {
      "cell_type": "code",
      "metadata": {
        "id": "luMaI58HJ_mf",
        "colab_type": "code",
        "colab": {
          "base_uri": "https://localhost:8080/",
          "height": 321
        },
        "outputId": "4d96aef5-7045-418a-9013-d51cb599855e"
      },
      "source": [
        "train['duration'].value_counts().plot(kind='bar')"
      ],
      "execution_count": null,
      "outputs": [
        {
          "output_type": "execute_result",
          "data": {
            "text/plain": [
              "<matplotlib.axes._subplots.AxesSubplot at 0x7f899f154390>"
            ]
          },
          "metadata": {
            "tags": []
          },
          "execution_count": 14
        },
        {
          "output_type": "display_data",
          "data": {
            "image/png": "[encoded data removed]",
            "text/plain": [
              "<Figure size 432x288 with 1 Axes>"
            ]
          },
          "metadata": {
            "tags": [],
            "needs_background": "light"
          }
        }
      ]
    },
    {
      "cell_type": "markdown",
      "metadata": {
        "id": "BIjvTxRmK6cp",
        "colab_type": "text"
      },
      "source": [
        "**Compare fare rates with different variables**"
      ]
    },
    {
      "cell_type": "code",
      "metadata": {
        "id": "WV4f8k-LLJSV",
        "colab_type": "code",
        "colab": {}
      },
      "source": [
        "def fare_stacked_bar(variable):\n",
        "  Correct = train[train['label']=='correct'][variable].value_counts()/len(train['label']=='correct')\n",
        "  Incorrect = train[train['label']=='incorrect'][variable].value_counts()/len(train['label']=='incorrect')\n",
        "  data = pd.DataFrame([Correct,Incorrect])\n",
        "  data.index=['Incorrect','Correct']\n",
        "  data.plot(kind='bar',stacked=True,title='fare')\n",
        "  return data.head()"
      ],
      "execution_count": null,
      "outputs": []
    },
    {
      "cell_type": "code",
      "metadata": {
        "id": "FYwMKN7xMadB",
        "colab_type": "code",
        "colab": {}
      },
      "source": [
        "fare_stacked_bar('duration')"
      ],
      "execution_count": null,
      "outputs": []
    },
    {
      "cell_type": "code",
      "metadata": {
        "id": "1OPRusl5MxGP",
        "colab_type": "code",
        "colab": {}
      },
      "source": [
        "fare_stacked_bar('fare')"
      ],
      "execution_count": null,
      "outputs": []
    },
    {
      "cell_type": "markdown",
      "metadata": {
        "id": "LLVxCIpKOIjJ",
        "colab_type": "text"
      },
      "source": [
        ""
      ]
    },
    {
      "cell_type": "code",
      "metadata": {
        "id": "liumfkAONS9w",
        "colab_type": "code",
        "colab": {}
      },
      "source": [
        "fare_stacked_bar('meter_waiting')"
      ],
      "execution_count": null,
      "outputs": []
    },
    {
      "cell_type": "markdown",
      "metadata": {
        "id": "CWG27xW0OKLS",
        "colab_type": "text"
      },
      "source": [
        "check for missing values"
      ]
    },
    {
      "cell_type": "code",
      "metadata": {
        "id": "CiZEfhziOQcy",
        "colab_type": "code",
        "colab": {
          "base_uri": "https://localhost:8080/",
          "height": 271
        },
        "outputId": "aea651eb-3e1a-49ff-cc61-2c64c189000a"
      },
      "source": [
        "for i in train.columns:\n",
        "    print (i + \": \"+str(sum(train[i].isnull()))+\" missing values\")"
      ],
      "execution_count": null,
      "outputs": [
        {
          "output_type": "stream",
          "text": [
            "tripid: 0 missing values\n",
            "additional_fare: 202 missing values\n",
            "duration: 202 missing values\n",
            "meter_waiting: 202 missing values\n",
            "meter_waiting_fare: 202 missing values\n",
            "meter_waiting_till_pickup: 202 missing values\n",
            "pickup_time: 0 missing values\n",
            "drop_time: 0 missing values\n",
            "pick_lat: 0 missing values\n",
            "pick_lon: 0 missing values\n",
            "drop_lat: 0 missing values\n",
            "drop_lon: 0 missing values\n",
            "fare: 137 missing values\n",
            "label: 0 missing values\n"
          ],
          "name": "stdout"
        }
      ]
    },
    {
      "cell_type": "code",
      "metadata": {
        "id": "AY2FjpVvOvli",
        "colab_type": "code",
        "colab": {
          "base_uri": "https://localhost:8080/",
          "height": 35
        },
        "outputId": "644a3ac9-cef6-4459-e86f-e5343e7da005"
      },
      "source": [
        "train_duration_median = train['duration'].median()\n",
        "train_duration_median"
      ],
      "execution_count": null,
      "outputs": [
        {
          "output_type": "execute_result",
          "data": {
            "text/plain": [
              "1702.8580770590315"
            ]
          },
          "metadata": {
            "tags": []
          },
          "execution_count": 104
        }
      ]
    },
    {
      "cell_type": "markdown",
      "metadata": {
        "id": "FtTrg5kxVkUW",
        "colab_type": "text"
      },
      "source": [
        "Replace null durations with medial"
      ]
    },
    {
      "cell_type": "code",
      "metadata": {
        "id": "pCPkMWxSQGLh",
        "colab_type": "code",
        "colab": {}
      },
      "source": [
        "#train[\"duration\"] = train['duration'].fillna(fill_duration(train,train_duration_median))\n",
        "train['duration'].fillna((train['duration'].mean()), inplace=True)\n",
        "train['additional_fare'].fillna((train['additional_fare'].mean()), inplace=True)\n",
        "train['meter_waiting'].fillna((train['meter_waiting'].mean()), inplace=True)\n",
        "train['meter_waiting_fare'].fillna((train['meter_waiting_fare'].mean()), inplace=True)\n",
        "train['meter_waiting_till_pickup'].fillna((train['meter_waiting_till_pickup'].mean()), inplace=True)\n",
        "train['fare'].fillna((train['fare'].mean()), inplace=True)"
      ],
      "execution_count": null,
      "outputs": []
    },
    {
      "cell_type": "code",
      "metadata": {
        "id": "i1Nf8myf7SWx",
        "colab_type": "code",
        "colab": {}
      },
      "source": [
        "train.dropna(inplace=True)"
      ],
      "execution_count": null,
      "outputs": []
    },
    {
      "cell_type": "code",
      "metadata": {
        "id": "rYi3mGqO8DOZ",
        "colab_type": "code",
        "colab": {
          "base_uri": "https://localhost:8080/",
          "height": 35
        },
        "outputId": "4bbe9a57-c027-475a-bd83-e841408b90b2"
      },
      "source": [
        "train.shape"
      ],
      "execution_count": null,
      "outputs": [
        {
          "output_type": "execute_result",
          "data": {
            "text/plain": [
              "(17176, 14)"
            ]
          },
          "metadata": {
            "tags": []
          },
          "execution_count": 14
        }
      ]
    },
    {
      "cell_type": "code",
      "metadata": {
        "id": "wLmhXCIKQb9a",
        "colab_type": "code",
        "colab": {
          "base_uri": "https://localhost:8080/",
          "height": 271
        },
        "outputId": "3e7e44f0-bd1e-42c0-c634-e2a8ccf33d37"
      },
      "source": [
        "for i in train.columns:\n",
        "    print (i + \": \"+str(sum(train[i].isnull()))+\" missing values\")"
      ],
      "execution_count": null,
      "outputs": [
        {
          "output_type": "stream",
          "text": [
            "tripid: 0 missing values\n",
            "additional_fare: 0 missing values\n",
            "duration: 0 missing values\n",
            "meter_waiting: 0 missing values\n",
            "meter_waiting_fare: 0 missing values\n",
            "meter_waiting_till_pickup: 0 missing values\n",
            "pickup_time: 0 missing values\n",
            "drop_time: 0 missing values\n",
            "pick_lat: 0 missing values\n",
            "pick_lon: 0 missing values\n",
            "drop_lat: 0 missing values\n",
            "drop_lon: 0 missing values\n",
            "fare: 0 missing values\n",
            "label: 0 missing values\n"
          ],
          "name": "stdout"
        }
      ]
    },
    {
      "cell_type": "code",
      "metadata": {
        "id": "2kWJdG-YVPh9",
        "colab_type": "code",
        "colab": {
          "base_uri": "https://localhost:8080/",
          "height": 313
        },
        "outputId": "f65ce6a3-46ed-41d7-e749-0ac9921bc086"
      },
      "source": [
        "train.head()"
      ],
      "execution_count": null,
      "outputs": [
        {
          "output_type": "execute_result",
          "data": {
            "text/html": [
              "<div>\n",
              "<style scoped>\n",
              "    .dataframe tbody tr th:only-of-type {\n",
              "        vertical-align: middle;\n",
              "    }\n",
              "\n",
              "    .dataframe tbody tr th {\n",
              "        vertical-align: top;\n",
              "    }\n",
              "\n",
              "    .dataframe thead th {\n",
              "        text-align: right;\n",
              "    }\n",
              "</style>\n",
              "<table border=\"1\" class=\"dataframe\">\n",
              "  <thead>\n",
              "    <tr style=\"text-align: right;\">\n",
              "      <th></th>\n",
              "      <th>tripid</th>\n",
              "      <th>additional_fare</th>\n",
              "      <th>duration</th>\n",
              "      <th>meter_waiting</th>\n",
              "      <th>meter_waiting_fare</th>\n",
              "      <th>meter_waiting_till_pickup</th>\n",
              "      <th>pickup_time</th>\n",
              "      <th>drop_time</th>\n",
              "      <th>pick_lat</th>\n",
              "      <th>pick_lon</th>\n",
              "      <th>drop_lat</th>\n",
              "      <th>drop_lon</th>\n",
              "      <th>fare</th>\n",
              "      <th>label</th>\n",
              "    </tr>\n",
              "  </thead>\n",
              "  <tbody>\n",
              "    <tr>\n",
              "      <th>0</th>\n",
              "      <td>189123628</td>\n",
              "      <td>10.5</td>\n",
              "      <td>834.0</td>\n",
              "      <td>56.0</td>\n",
              "      <td>0.0000</td>\n",
              "      <td>64.0</td>\n",
              "      <td>11/1/2019 0:20</td>\n",
              "      <td>11/1/2019 0:34</td>\n",
              "      <td>6.86252</td>\n",
              "      <td>79.8993</td>\n",
              "      <td>6.90330</td>\n",
              "      <td>79.8783</td>\n",
              "      <td>270.32</td>\n",
              "      <td>correct</td>\n",
              "    </tr>\n",
              "    <tr>\n",
              "      <th>1</th>\n",
              "      <td>189125358</td>\n",
              "      <td>10.5</td>\n",
              "      <td>791.0</td>\n",
              "      <td>47.0</td>\n",
              "      <td>0.0000</td>\n",
              "      <td>134.0</td>\n",
              "      <td>11/1/2019 0:56</td>\n",
              "      <td>11/1/2019 1:09</td>\n",
              "      <td>6.88589</td>\n",
              "      <td>79.8984</td>\n",
              "      <td>6.91373</td>\n",
              "      <td>79.8923</td>\n",
              "      <td>197.85</td>\n",
              "      <td>correct</td>\n",
              "    </tr>\n",
              "    <tr>\n",
              "      <th>2</th>\n",
              "      <td>189125719</td>\n",
              "      <td>10.5</td>\n",
              "      <td>1087.0</td>\n",
              "      <td>80.0</td>\n",
              "      <td>0.0000</td>\n",
              "      <td>61.0</td>\n",
              "      <td>11/1/2019 1:08</td>\n",
              "      <td>11/1/2019 1:26</td>\n",
              "      <td>6.90839</td>\n",
              "      <td>79.8651</td>\n",
              "      <td>6.93669</td>\n",
              "      <td>79.9146</td>\n",
              "      <td>301.64</td>\n",
              "      <td>correct</td>\n",
              "    </tr>\n",
              "    <tr>\n",
              "      <th>3</th>\n",
              "      <td>189127273</td>\n",
              "      <td>10.5</td>\n",
              "      <td>598.0</td>\n",
              "      <td>271.0</td>\n",
              "      <td>15.6638</td>\n",
              "      <td>68.0</td>\n",
              "      <td>11/1/2019 2:27</td>\n",
              "      <td>11/1/2019 2:37</td>\n",
              "      <td>6.92570</td>\n",
              "      <td>79.8895</td>\n",
              "      <td>6.92748</td>\n",
              "      <td>79.8971</td>\n",
              "      <td>82.30</td>\n",
              "      <td>correct</td>\n",
              "    </tr>\n",
              "    <tr>\n",
              "      <th>5</th>\n",
              "      <td>189129552</td>\n",
              "      <td>10.5</td>\n",
              "      <td>3407.0</td>\n",
              "      <td>182.0</td>\n",
              "      <td>0.0000</td>\n",
              "      <td>112.0</td>\n",
              "      <td>11/1/2019 5:38</td>\n",
              "      <td>11/1/2019 6:35</td>\n",
              "      <td>7.13402</td>\n",
              "      <td>79.8969</td>\n",
              "      <td>6.91865</td>\n",
              "      <td>79.8649</td>\n",
              "      <td>1065.02</td>\n",
              "      <td>correct</td>\n",
              "    </tr>\n",
              "  </tbody>\n",
              "</table>\n",
              "</div>"
            ],
            "text/plain": [
              "      tripid  additional_fare  duration  ...  drop_lon     fare    label\n",
              "0  189123628             10.5     834.0  ...   79.8783   270.32  correct\n",
              "1  189125358             10.5     791.0  ...   79.8923   197.85  correct\n",
              "2  189125719             10.5    1087.0  ...   79.9146   301.64  correct\n",
              "3  189127273             10.5     598.0  ...   79.8971    82.30  correct\n",
              "5  189129552             10.5    3407.0  ...   79.8649  1065.02  correct\n",
              "\n",
              "[5 rows x 14 columns]"
            ]
          },
          "metadata": {
            "tags": []
          },
          "execution_count": 9
        }
      ]
    },
    {
      "cell_type": "code",
      "metadata": {
        "id": "3ONk6VQBzOlU",
        "colab_type": "code",
        "colab": {
          "base_uri": "https://localhost:8080/",
          "height": 235
        },
        "outputId": "9dfa664d-88fc-4645-abdf-25a8e88fedbe"
      },
      "source": [
        "train['label'].replace({\"correct\": 1, \"incorrect\": 0}, inplace=True)\n",
        "print(train[\"label\"])"
      ],
      "execution_count": null,
      "outputs": [
        {
          "output_type": "stream",
          "text": [
            "0        1\n",
            "1        1\n",
            "2        1\n",
            "3        1\n",
            "5        1\n",
            "        ..\n",
            "17171    1\n",
            "17172    1\n",
            "17173    1\n",
            "17174    1\n",
            "17175    1\n",
            "Name: label, Length: 16968, dtype: int64\n"
          ],
          "name": "stdout"
        }
      ]
    },
    {
      "cell_type": "code",
      "metadata": {
        "id": "tOsWppNr3bom",
        "colab_type": "code",
        "colab": {
          "base_uri": "https://localhost:8080/",
          "height": 644
        },
        "outputId": "a8d56242-b494-4c61-c622-2d632016d1b8"
      },
      "source": [
        "train['label'].value_counts().plot(kind='bar')\n",
        "train.info()"
      ],
      "execution_count": null,
      "outputs": [
        {
          "output_type": "stream",
          "text": [
            "<class 'pandas.core.frame.DataFrame'>\n",
            "RangeIndex: 17176 entries, 0 to 17175\n",
            "Data columns (total 14 columns):\n",
            " #   Column                     Non-Null Count  Dtype         \n",
            "---  ------                     --------------  -----         \n",
            " 0   tripid                     17176 non-null  int64         \n",
            " 1   additional_fare            17176 non-null  float64       \n",
            " 2   duration                   17176 non-null  float64       \n",
            " 3   meter_waiting              17176 non-null  float64       \n",
            " 4   meter_waiting_fare         17176 non-null  float64       \n",
            " 5   meter_waiting_till_pickup  17176 non-null  float64       \n",
            " 6   pickup_time                17176 non-null  datetime64[ns]\n",
            " 7   drop_time                  17176 non-null  object        \n",
            " 8   pick_lat                   17176 non-null  float64       \n",
            " 9   pick_lon                   17176 non-null  float64       \n",
            " 10  drop_lat                   17176 non-null  float64       \n",
            " 11  drop_lon                   17176 non-null  float64       \n",
            " 12  fare                       17176 non-null  float64       \n",
            " 13  label                      17176 non-null  int64         \n",
            "dtypes: datetime64[ns](1), float64(10), int64(2), object(1)\n",
            "memory usage: 1.8+ MB\n"
          ],
          "name": "stdout"
        },
        {
          "output_type": "display_data",
          "data": {
            "image/png": "[encoded data removed]",
            "text/plain": [
              "<Figure size 432x288 with 1 Axes>"
            ]
          },
          "metadata": {
            "tags": [],
            "needs_background": "light"
          }
        }
      ]
    },
    {
      "cell_type": "markdown",
      "metadata": {
        "id": "ehmTaCV35H6J",
        "colab_type": "text"
      },
      "source": [
        "remove pickup time and drop time\n"
      ]
    },
    {
      "cell_type": "markdown",
      "metadata": {
        "id": "XgDuapLJtzKM",
        "colab_type": "text"
      },
      "source": [
        ""
      ]
    },
    {
      "cell_type": "code",
      "metadata": {
        "id": "qlgq5AfY5YXS",
        "colab_type": "code",
        "colab": {
          "base_uri": "https://localhost:8080/",
          "height": 226
        },
        "outputId": "e4a0c3a3-5c14-4faf-d233-7746d912a3a7"
      },
      "source": [
        "train.drop(['pickup_time','drop_time'],inplace=True,axis=1)\n",
        "train.tail()"
      ],
      "execution_count": null,
      "outputs": [
        {
          "output_type": "execute_result",
          "data": {
            "text/html": [
              "<div>\n",
              "<style scoped>\n",
              "    .dataframe tbody tr th:only-of-type {\n",
              "        vertical-align: middle;\n",
              "    }\n",
              "\n",
              "    .dataframe tbody tr th {\n",
              "        vertical-align: top;\n",
              "    }\n",
              "\n",
              "    .dataframe thead th {\n",
              "        text-align: right;\n",
              "    }\n",
              "</style>\n",
              "<table border=\"1\" class=\"dataframe\">\n",
              "  <thead>\n",
              "    <tr style=\"text-align: right;\">\n",
              "      <th></th>\n",
              "      <th>tripid</th>\n",
              "      <th>additional_fare</th>\n",
              "      <th>duration</th>\n",
              "      <th>meter_waiting</th>\n",
              "      <th>meter_waiting_fare</th>\n",
              "      <th>meter_waiting_till_pickup</th>\n",
              "      <th>pick_lat</th>\n",
              "      <th>pick_lon</th>\n",
              "      <th>drop_lat</th>\n",
              "      <th>drop_lon</th>\n",
              "      <th>fare</th>\n",
              "      <th>label</th>\n",
              "    </tr>\n",
              "  </thead>\n",
              "  <tbody>\n",
              "    <tr>\n",
              "      <th>17171</th>\n",
              "      <td>213803193</td>\n",
              "      <td>10.5</td>\n",
              "      <td>838.0</td>\n",
              "      <td>93.0</td>\n",
              "      <td>5.4219</td>\n",
              "      <td>451.0</td>\n",
              "      <td>7.29073</td>\n",
              "      <td>80.6367</td>\n",
              "      <td>7.28891</td>\n",
              "      <td>80.6557</td>\n",
              "      <td>198.26</td>\n",
              "      <td>1</td>\n",
              "    </tr>\n",
              "    <tr>\n",
              "      <th>17172</th>\n",
              "      <td>213812756</td>\n",
              "      <td>10.5</td>\n",
              "      <td>2151.0</td>\n",
              "      <td>428.0</td>\n",
              "      <td>0.0000</td>\n",
              "      <td>39.0</td>\n",
              "      <td>6.90569</td>\n",
              "      <td>79.8516</td>\n",
              "      <td>6.95089</td>\n",
              "      <td>79.9389</td>\n",
              "      <td>581.23</td>\n",
              "      <td>1</td>\n",
              "    </tr>\n",
              "    <tr>\n",
              "      <th>17173</th>\n",
              "      <td>213813930</td>\n",
              "      <td>10.5</td>\n",
              "      <td>263.0</td>\n",
              "      <td>9.0</td>\n",
              "      <td>0.0000</td>\n",
              "      <td>110.0</td>\n",
              "      <td>7.09210</td>\n",
              "      <td>79.9000</td>\n",
              "      <td>7.10135</td>\n",
              "      <td>79.9017</td>\n",
              "      <td>76.20</td>\n",
              "      <td>1</td>\n",
              "    </tr>\n",
              "    <tr>\n",
              "      <th>17174</th>\n",
              "      <td>213815405</td>\n",
              "      <td>10.5</td>\n",
              "      <td>858.0</td>\n",
              "      <td>115.0</td>\n",
              "      <td>0.0000</td>\n",
              "      <td>317.0</td>\n",
              "      <td>6.94540</td>\n",
              "      <td>79.8768</td>\n",
              "      <td>6.93574</td>\n",
              "      <td>79.9010</td>\n",
              "      <td>133.31</td>\n",
              "      <td>1</td>\n",
              "    </tr>\n",
              "    <tr>\n",
              "      <th>17175</th>\n",
              "      <td>213817296</td>\n",
              "      <td>10.5</td>\n",
              "      <td>262.0</td>\n",
              "      <td>21.0</td>\n",
              "      <td>1.2243</td>\n",
              "      <td>23.0</td>\n",
              "      <td>6.90257</td>\n",
              "      <td>79.9557</td>\n",
              "      <td>6.90823</td>\n",
              "      <td>79.9374</td>\n",
              "      <td>98.57</td>\n",
              "      <td>1</td>\n",
              "    </tr>\n",
              "  </tbody>\n",
              "</table>\n",
              "</div>"
            ],
            "text/plain": [
              "          tripid  additional_fare  duration  ...  drop_lon    fare  label\n",
              "17171  213803193             10.5     838.0  ...   80.6557  198.26      1\n",
              "17172  213812756             10.5    2151.0  ...   79.9389  581.23      1\n",
              "17173  213813930             10.5     263.0  ...   79.9017   76.20      1\n",
              "17174  213815405             10.5     858.0  ...   79.9010  133.31      1\n",
              "17175  213817296             10.5     262.0  ...   79.9374   98.57      1\n",
              "\n",
              "[5 rows x 12 columns]"
            ]
          },
          "metadata": {
            "tags": []
          },
          "execution_count": 18
        }
      ]
    },
    {
      "cell_type": "code",
      "metadata": {
        "id": "hTqa1AwuiK7t",
        "colab_type": "code",
        "colab": {
          "base_uri": "https://localhost:8080/",
          "height": 291
        },
        "outputId": "7c9dc174-cdb5-42aa-e25e-fb9f7976e13c"
      },
      "source": [
        "!pip install scikit-plot"
      ],
      "execution_count": null,
      "outputs": [
        {
          "output_type": "stream",
          "text": [
            "Collecting scikit-plot\n",
            "  Downloading https://files.pythonhosted.org/packages/7c/47/32520e259340c140a4ad27c1b97050dd3254fdc517b1d59974d47037510e/scikit_plot-0.3.7-py3-none-any.whl\n",
            "Requirement already satisfied: scipy>=0.9 in /usr/local/lib/python3.6/dist-packages (from scikit-plot) (1.4.1)\n",
            "Requirement already satisfied: matplotlib>=1.4.0 in /usr/local/lib/python3.6/dist-packages (from scikit-plot) (3.2.1)\n",
            "Requirement already satisfied: scikit-learn>=0.18 in /usr/local/lib/python3.6/dist-packages (from scikit-plot) (0.22.2.post1)\n",
            "Requirement already satisfied: joblib>=0.10 in /usr/local/lib/python3.6/dist-packages (from scikit-plot) (0.15.1)\n",
            "Requirement already satisfied: numpy>=1.13.3 in /usr/local/lib/python3.6/dist-packages (from scipy>=0.9->scikit-plot) (1.18.4)\n",
            "Requirement already satisfied: cycler>=0.10 in /usr/local/lib/python3.6/dist-packages (from matplotlib>=1.4.0->scikit-plot) (0.10.0)\n",
            "Requirement already satisfied: pyparsing!=2.0.4,!=2.1.2,!=2.1.6,>=2.0.1 in /usr/local/lib/python3.6/dist-packages (from matplotlib>=1.4.0->scikit-plot) (2.4.7)\n",
            "Requirement already satisfied: kiwisolver>=1.0.1 in /usr/local/lib/python3.6/dist-packages (from matplotlib>=1.4.0->scikit-plot) (1.2.0)\n",
            "Requirement already satisfied: python-dateutil>=2.1 in /usr/local/lib/python3.6/dist-packages (from matplotlib>=1.4.0->scikit-plot) (2.8.1)\n",
            "Requirement already satisfied: six in /usr/local/lib/python3.6/dist-packages (from cycler>=0.10->matplotlib>=1.4.0->scikit-plot) (1.12.0)\n",
            "Installing collected packages: scikit-plot\n",
            "Successfully installed scikit-plot-0.3.7\n"
          ],
          "name": "stdout"
        }
      ]
    },
    {
      "cell_type": "code",
      "metadata": {
        "id": "U2X4nr0U67mm",
        "colab_type": "code",
        "colab": {
          "base_uri": "https://localhost:8080/",
          "height": 73
        },
        "outputId": "7f30fa5b-e303-4ed8-e5c3-bc0a65a74c1b"
      },
      "source": [
        "from sklearn.pipeline import make_pipeline\n",
        "from sklearn.ensemble import RandomForestClassifier\n",
        "from sklearn.feature_selection import SelectKBest\n",
        "from sklearn.model_selection import StratifiedKFold\n",
        "from sklearn.model_selection import GridSearchCV\n",
        "from sklearn.ensemble.gradient_boosting import GradientBoostingClassifier\n",
        "from sklearn.model_selection import cross_val_score\n",
        "from sklearn.linear_model import LogisticRegression\n",
        "from sklearn.linear_model import LinearRegression\n",
        "import statsmodels.formula.api as sm\n",
        "from sklearn.model_selection import train_test_split\n",
        "from sklearn.svm import SVC, LinearSVC\n",
        "from sklearn.neighbors import KNeighborsClassifier\n",
        "from sklearn.tree import DecisionTreeClassifier\n",
        "from sklearn.naive_bayes import GaussianNB\n",
        "from sklearn.linear_model import Perceptron\n",
        "from sklearn.linear_model import SGDClassifier\n",
        "from sklearn.feature_selection import SelectFromModel\n",
        "from sklearn.model_selection import KFold\n",
        "from sklearn.model_selection import cross_val_score\n",
        "from sklearn.metrics import confusion_matrix\n",
        "from sklearn.discriminant_analysis import LinearDiscriminantAnalysis\n",
        "from sklearn.discriminant_analysis import QuadraticDiscriminantAnalysis\n",
        "import xgboost as xgb\n",
        "from sklearn.metrics import roc_curve, auc\n",
        "import scikitplot as skplt"
      ],
      "execution_count": null,
      "outputs": [
        {
          "output_type": "stream",
          "text": [
            "/usr/local/lib/python3.6/dist-packages/sklearn/utils/deprecation.py:144: FutureWarning: The sklearn.ensemble.gradient_boosting module is  deprecated in version 0.22 and will be removed in version 0.24. The corresponding classes / functions should instead be imported from sklearn.ensemble. Anything that cannot be imported from sklearn.ensemble is now part of the private API.\n",
            "  warnings.warn(message, FutureWarning)\n"
          ],
          "name": "stderr"
        }
      ]
    },
    {
      "cell_type": "code",
      "metadata": {
        "id": "z0FAjmaG56Hh",
        "colab_type": "code",
        "colab": {}
      },
      "source": [
        "X=train.drop(['label'],axis=1)\n",
        "Y=train['label']\n",
        "x_train,x_test,y_train,y_test=train_test_split(X,Y,test_size=0.2,random_state=0)"
      ],
      "execution_count": null,
      "outputs": []
    },
    {
      "cell_type": "code",
      "metadata": {
        "id": "GGF3Qkws9Fgp",
        "colab_type": "code",
        "colab": {}
      },
      "source": [
        "k_fold = KFold(n_splits=5, shuffle=True, random_state=0)"
      ],
      "execution_count": null,
      "outputs": []
    },
    {
      "cell_type": "code",
      "metadata": {
        "id": "5yi1a-Ox9KQ6",
        "colab_type": "code",
        "colab": {}
      },
      "source": [
        "def acc_score(model):\n",
        "    return np.mean(cross_val_score(model,x_train,y_train,cv=k_fold,scoring=\"accuracy\"))"
      ],
      "execution_count": null,
      "outputs": []
    },
    {
      "cell_type": "code",
      "metadata": {
        "id": "tYm7cbu99f0w",
        "colab_type": "code",
        "colab": {}
      },
      "source": [
        "def confusion_matrix_model(model_used):\n",
        "    cm=confusion_matrix(y_test,model_used.predict(x_test))\n",
        "    col=[\"Predicted Incorrect\",\"Predicted Correct\"]\n",
        "    cm=pd.DataFrame(cm)\n",
        "    cm.columns=[\"Predicted Incorrect\",\"Predicted Correct\"]\n",
        "    cm.index=[\"Actual Incorrect\",\"Actual Correct\"]\n",
        "    cm[col]=np.around(cm[col].div(cm[col].sum(axis=1),axis=0),decimals=5)\n",
        "    return cm"
      ],
      "execution_count": null,
      "outputs": []
    },
    {
      "cell_type": "code",
      "metadata": {
        "id": "9m3yP-qziepy",
        "colab_type": "code",
        "colab": {}
      },
      "source": [
        "def aucscore(model,has_proba=True):\n",
        "    if has_proba:\n",
        "        fpr,tpr,thresh=skplt.metrics.roc_curve(y_test,model.predict_proba(x_test)[:,1])\n",
        "    else:\n",
        "        fpr,tpr,thresh=skplt.metrics.roc_curve(y_test,model.decision_function(x_test))\n",
        "    x=fpr\n",
        "    y=tpr\n",
        "    auc= skplt.metrics.auc(x,y)\n",
        "    return auc\n",
        "def plt_roc_curve(name,model,has_proba=True):\n",
        "    if has_proba:\n",
        "        fpr,tpr,thresh=skplt.metrics.roc_curve(y_test,model.predict_proba(x_test)[:,1])\n",
        "    else:\n",
        "        fpr,tpr,thresh=skplt.metrics.roc_curve(y_test,model.decision_function(x_test))\n",
        "    x=fpr\n",
        "    y=tpr\n",
        "    auc= skplt.metrics.auc(x,y)\n",
        "    plt.plot(x,y,label='ROC curve for %s (AUC = %0.2f)' % (name, auc))\n",
        "    plt.plot([0, 1], [0, 1], 'k--')\n",
        "    plt.xlim((0,1))\n",
        "    plt.ylim((0,1))\n",
        "    plt.xlabel(\"False Positive Rate\")\n",
        "    plt.ylabel(\"True Positive Rate\")\n",
        "    plt.title(\"ROC Curve\")\n",
        "    plt.legend(loc=\"lower right\")\n",
        "    plt.show()"
      ],
      "execution_count": null,
      "outputs": []
    },
    {
      "cell_type": "markdown",
      "metadata": {
        "id": "VDKZUL32Ed7R",
        "colab_type": "text"
      },
      "source": [
        "## Logistic Regression"
      ]
    },
    {
      "cell_type": "code",
      "metadata": {
        "id": "1qF4mf3e9Q5i",
        "colab_type": "code",
        "colab": {
          "base_uri": "https://localhost:8080/",
          "height": 130
        },
        "outputId": "6f7fe3ea-4b21-434b-c5bb-f90a8d6f460c"
      },
      "source": [
        "log_reg=LogisticRegression()\n",
        "log_reg.fit(x_train,y_train)\n",
        "\n",
        "print(\"Accuracy: \" + str(acc_score(log_reg)))\n",
        "confusion_matrix_model(log_reg)"
      ],
      "execution_count": null,
      "outputs": [
        {
          "output_type": "stream",
          "text": [
            "Accuracy: 0.9022580555891866\n"
          ],
          "name": "stdout"
        },
        {
          "output_type": "execute_result",
          "data": {
            "text/html": [
              "<div>\n",
              "<style scoped>\n",
              "    .dataframe tbody tr th:only-of-type {\n",
              "        vertical-align: middle;\n",
              "    }\n",
              "\n",
              "    .dataframe tbody tr th {\n",
              "        vertical-align: top;\n",
              "    }\n",
              "\n",
              "    .dataframe thead th {\n",
              "        text-align: right;\n",
              "    }\n",
              "</style>\n",
              "<table border=\"1\" class=\"dataframe\">\n",
              "  <thead>\n",
              "    <tr style=\"text-align: right;\">\n",
              "      <th></th>\n",
              "      <th>Predicted Incorrect</th>\n",
              "      <th>Predicted Correct</th>\n",
              "    </tr>\n",
              "  </thead>\n",
              "  <tbody>\n",
              "    <tr>\n",
              "      <th>Actual Incorrect</th>\n",
              "      <td>0.0</td>\n",
              "      <td>1.0</td>\n",
              "    </tr>\n",
              "    <tr>\n",
              "      <th>Actual Correct</th>\n",
              "      <td>0.0</td>\n",
              "      <td>1.0</td>\n",
              "    </tr>\n",
              "  </tbody>\n",
              "</table>\n",
              "</div>"
            ],
            "text/plain": [
              "                  Predicted Incorrect  Predicted Correct\n",
              "Actual Incorrect                  0.0                1.0\n",
              "Actual Correct                    0.0                1.0"
            ]
          },
          "metadata": {
            "tags": []
          },
          "execution_count": 19
        }
      ]
    },
    {
      "cell_type": "code",
      "metadata": {
        "id": "975pxwXJirZM",
        "colab_type": "code",
        "colab": {
          "base_uri": "https://localhost:8080/",
          "height": 295
        },
        "outputId": "4ec8bb8a-a2c2-4763-b8c4-8e18146edb84"
      },
      "source": [
        "plt_roc_curve(\"Logistic Regression\",log_reg,has_proba=True)"
      ],
      "execution_count": null,
      "outputs": [
        {
          "output_type": "display_data",
          "data": {
            "image/png": "[encoded data removed]",
            "text/plain": [
              "<Figure size 432x288 with 1 Axes>"
            ]
          },
          "metadata": {
            "tags": [],
            "needs_background": "light"
          }
        }
      ]
    },
    {
      "cell_type": "markdown",
      "metadata": {
        "id": "KO-RWq_DEcDv",
        "colab_type": "text"
      },
      "source": [
        "# Support vector"
      ]
    },
    {
      "cell_type": "code",
      "metadata": {
        "id": "AWpqW7in-LhA",
        "colab_type": "code",
        "colab": {
          "base_uri": "https://localhost:8080/",
          "height": 130
        },
        "outputId": "a81519a4-e926-4a17-f1bb-ac12f00f6fbb"
      },
      "source": [
        "SVC_rbf=SVC(kernel=\"rbf\")\n",
        "SVC_rbf.fit(x_train,y_train)\n",
        "\n",
        "print(\"Accuracy: \" + str(acc_score(SVC_rbf)))\n",
        "confusion_matrix_model(SVC_rbf)"
      ],
      "execution_count": null,
      "outputs": [
        {
          "output_type": "stream",
          "text": [
            "Accuracy: 0.9022580555891866\n"
          ],
          "name": "stdout"
        },
        {
          "output_type": "execute_result",
          "data": {
            "text/html": [
              "<div>\n",
              "<style scoped>\n",
              "    .dataframe tbody tr th:only-of-type {\n",
              "        vertical-align: middle;\n",
              "    }\n",
              "\n",
              "    .dataframe tbody tr th {\n",
              "        vertical-align: top;\n",
              "    }\n",
              "\n",
              "    .dataframe thead th {\n",
              "        text-align: right;\n",
              "    }\n",
              "</style>\n",
              "<table border=\"1\" class=\"dataframe\">\n",
              "  <thead>\n",
              "    <tr style=\"text-align: right;\">\n",
              "      <th></th>\n",
              "      <th>Predicted Incorrect</th>\n",
              "      <th>Predicted Correct</th>\n",
              "    </tr>\n",
              "  </thead>\n",
              "  <tbody>\n",
              "    <tr>\n",
              "      <th>Actual Incorrect</th>\n",
              "      <td>0.0</td>\n",
              "      <td>1.0</td>\n",
              "    </tr>\n",
              "    <tr>\n",
              "      <th>Actual Correct</th>\n",
              "      <td>0.0</td>\n",
              "      <td>1.0</td>\n",
              "    </tr>\n",
              "  </tbody>\n",
              "</table>\n",
              "</div>"
            ],
            "text/plain": [
              "                  Predicted Incorrect  Predicted Correct\n",
              "Actual Incorrect                  0.0                1.0\n",
              "Actual Correct                    0.0                1.0"
            ]
          },
          "metadata": {
            "tags": []
          },
          "execution_count": 21
        }
      ]
    },
    {
      "cell_type": "code",
      "metadata": {
        "id": "AzmxlNNbi3k0",
        "colab_type": "code",
        "colab": {
          "base_uri": "https://localhost:8080/",
          "height": 295
        },
        "outputId": "ed9f999d-7f70-411b-9e3a-f5f7a49dc323"
      },
      "source": [
        "plt_roc_curve(\"RBF SVM\",SVC_rbf,has_proba=False)"
      ],
      "execution_count": null,
      "outputs": [
        {
          "output_type": "display_data",
          "data": {
            "image/png": "[encoded data removed]",
            "text/plain": [
              "<Figure size 432x288 with 1 Axes>"
            ]
          },
          "metadata": {
            "tags": [],
            "needs_background": "light"
          }
        }
      ]
    },
    {
      "cell_type": "markdown",
      "metadata": {
        "id": "-wMdk02HFTxh",
        "colab_type": "text"
      },
      "source": [
        "## Random Forest"
      ]
    },
    {
      "cell_type": "code",
      "metadata": {
        "id": "whg6t-hJDP-o",
        "colab_type": "code",
        "colab": {
          "base_uri": "https://localhost:8080/",
          "height": 130
        },
        "outputId": "4866ca66-430b-448d-d8a5-9fec879cbe95"
      },
      "source": [
        "ranfor = RandomForestClassifier(n_estimators=50, max_features='sqrt',max_depth=6,random_state=10)\n",
        "ranfor = ranfor.fit(x_train,y_train)\n",
        "print(\"Accuracy: \" + str(acc_score(ranfor)))\n",
        "confusion_matrix_model(ranfor)"
      ],
      "execution_count": null,
      "outputs": [
        {
          "output_type": "stream",
          "text": [
            "Accuracy: 0.9212532646107547\n"
          ],
          "name": "stdout"
        },
        {
          "output_type": "execute_result",
          "data": {
            "text/html": [
              "<div>\n",
              "<style scoped>\n",
              "    .dataframe tbody tr th:only-of-type {\n",
              "        vertical-align: middle;\n",
              "    }\n",
              "\n",
              "    .dataframe tbody tr th {\n",
              "        vertical-align: top;\n",
              "    }\n",
              "\n",
              "    .dataframe thead th {\n",
              "        text-align: right;\n",
              "    }\n",
              "</style>\n",
              "<table border=\"1\" class=\"dataframe\">\n",
              "  <thead>\n",
              "    <tr style=\"text-align: right;\">\n",
              "      <th></th>\n",
              "      <th>Predicted Incorrect</th>\n",
              "      <th>Predicted Correct</th>\n",
              "    </tr>\n",
              "  </thead>\n",
              "  <tbody>\n",
              "    <tr>\n",
              "      <th>Actual Incorrect</th>\n",
              "      <td>0.21053</td>\n",
              "      <td>0.78947</td>\n",
              "    </tr>\n",
              "    <tr>\n",
              "      <th>Actual Correct</th>\n",
              "      <td>0.00654</td>\n",
              "      <td>0.99346</td>\n",
              "    </tr>\n",
              "  </tbody>\n",
              "</table>\n",
              "</div>"
            ],
            "text/plain": [
              "                  Predicted Incorrect  Predicted Correct\n",
              "Actual Incorrect              0.21053            0.78947\n",
              "Actual Correct                0.00654            0.99346"
            ]
          },
          "metadata": {
            "tags": []
          },
          "execution_count": 23
        }
      ]
    },
    {
      "cell_type": "code",
      "metadata": {
        "id": "o-eS0B7SjdZJ",
        "colab_type": "code",
        "colab": {
          "base_uri": "https://localhost:8080/",
          "height": 295
        },
        "outputId": "7cc2a33b-8d93-4626-a3df-ad0d594d8ff8"
      },
      "source": [
        "plt_roc_curve(\"Random Forest\",ranfor,has_proba=True)"
      ],
      "execution_count": null,
      "outputs": [
        {
          "output_type": "display_data",
          "data": {
            "image/png": "[encoded data removed]",
            "text/plain": [
              "<Figure size 432x288 with 1 Axes>"
            ]
          },
          "metadata": {
            "tags": [],
            "needs_background": "light"
          }
        }
      ]
    },
    {
      "cell_type": "markdown",
      "metadata": {
        "id": "WAsv_RTwEPbW",
        "colab_type": "text"
      },
      "source": [
        "## Decision tree"
      ]
    },
    {
      "cell_type": "code",
      "metadata": {
        "id": "EBJmmySOD0iT",
        "colab_type": "code",
        "colab": {
          "base_uri": "https://localhost:8080/",
          "height": 130
        },
        "outputId": "430efc98-2f8f-430a-8b7d-6187a3b5360e"
      },
      "source": [
        "Dec_tree=DecisionTreeClassifier(max_depth=4,random_state=5)\n",
        "Dec_tree.fit(x_train,y_train)\n",
        "\n",
        "print(\"Accuracy: \" + str(acc_score(Dec_tree)))\n",
        "confusion_matrix_model(Dec_tree)"
      ],
      "execution_count": null,
      "outputs": [
        {
          "output_type": "stream",
          "text": [
            "Accuracy: 0.9298396146462113\n"
          ],
          "name": "stdout"
        },
        {
          "output_type": "execute_result",
          "data": {
            "text/html": [
              "<div>\n",
              "<style scoped>\n",
              "    .dataframe tbody tr th:only-of-type {\n",
              "        vertical-align: middle;\n",
              "    }\n",
              "\n",
              "    .dataframe tbody tr th {\n",
              "        vertical-align: top;\n",
              "    }\n",
              "\n",
              "    .dataframe thead th {\n",
              "        text-align: right;\n",
              "    }\n",
              "</style>\n",
              "<table border=\"1\" class=\"dataframe\">\n",
              "  <thead>\n",
              "    <tr style=\"text-align: right;\">\n",
              "      <th></th>\n",
              "      <th>Predicted Incorrect</th>\n",
              "      <th>Predicted Correct</th>\n",
              "    </tr>\n",
              "  </thead>\n",
              "  <tbody>\n",
              "    <tr>\n",
              "      <th>Actual Incorrect</th>\n",
              "      <td>0.52632</td>\n",
              "      <td>0.47368</td>\n",
              "    </tr>\n",
              "    <tr>\n",
              "      <th>Actual Correct</th>\n",
              "      <td>0.00654</td>\n",
              "      <td>0.99346</td>\n",
              "    </tr>\n",
              "  </tbody>\n",
              "</table>\n",
              "</div>"
            ],
            "text/plain": [
              "                  Predicted Incorrect  Predicted Correct\n",
              "Actual Incorrect              0.52632            0.47368\n",
              "Actual Correct                0.00654            0.99346"
            ]
          },
          "metadata": {
            "tags": []
          },
          "execution_count": 25
        }
      ]
    },
    {
      "cell_type": "code",
      "metadata": {
        "id": "7P7GJPIujP7t",
        "colab_type": "code",
        "colab": {
          "base_uri": "https://localhost:8080/",
          "height": 295
        },
        "outputId": "912b23ac-9e4c-4ace-8200-9c5b417e7672"
      },
      "source": [
        "plt_roc_curve(\"Decision Tree\",Dec_tree,has_proba=True)"
      ],
      "execution_count": null,
      "outputs": [
        {
          "output_type": "display_data",
          "data": {
            "image/png": "[encoded data removed]",
            "text/plain": [
              "<Figure size 432x288 with 1 Axes>"
            ]
          },
          "metadata": {
            "tags": [],
            "needs_background": "light"
          }
        }
      ]
    },
    {
      "cell_type": "markdown",
      "metadata": {
        "id": "nMjM2NaiEJJe",
        "colab_type": "text"
      },
      "source": [
        "## K-Nearest Neighbour"
      ]
    },
    {
      "cell_type": "code",
      "metadata": {
        "id": "cM-uBQz2EETI",
        "colab_type": "code",
        "colab": {
          "base_uri": "https://localhost:8080/",
          "height": 130
        },
        "outputId": "a34e9c31-97f1-4ab5-edaa-80958fffd503"
      },
      "source": [
        "KNN=KNeighborsClassifier(n_neighbors=5)\n",
        "KNN.fit(x_train,y_train)\n",
        "\n",
        "print(\"Accuracy: \" + str(acc_score(KNN)))\n",
        "confusion_matrix_model(KNN)"
      ],
      "execution_count": null,
      "outputs": [
        {
          "output_type": "stream",
          "text": [
            "Accuracy: 0.8971415154712282\n"
          ],
          "name": "stdout"
        },
        {
          "output_type": "execute_result",
          "data": {
            "text/html": [
              "<div>\n",
              "<style scoped>\n",
              "    .dataframe tbody tr th:only-of-type {\n",
              "        vertical-align: middle;\n",
              "    }\n",
              "\n",
              "    .dataframe tbody tr th {\n",
              "        vertical-align: top;\n",
              "    }\n",
              "\n",
              "    .dataframe thead th {\n",
              "        text-align: right;\n",
              "    }\n",
              "</style>\n",
              "<table border=\"1\" class=\"dataframe\">\n",
              "  <thead>\n",
              "    <tr style=\"text-align: right;\">\n",
              "      <th></th>\n",
              "      <th>Predicted Incorrect</th>\n",
              "      <th>Predicted Correct</th>\n",
              "    </tr>\n",
              "  </thead>\n",
              "  <tbody>\n",
              "    <tr>\n",
              "      <th>Actual Incorrect</th>\n",
              "      <td>0.00000</td>\n",
              "      <td>1.00000</td>\n",
              "    </tr>\n",
              "    <tr>\n",
              "      <th>Actual Correct</th>\n",
              "      <td>0.00654</td>\n",
              "      <td>0.99346</td>\n",
              "    </tr>\n",
              "  </tbody>\n",
              "</table>\n",
              "</div>"
            ],
            "text/plain": [
              "                  Predicted Incorrect  Predicted Correct\n",
              "Actual Incorrect              0.00000            1.00000\n",
              "Actual Correct                0.00654            0.99346"
            ]
          },
          "metadata": {
            "tags": []
          },
          "execution_count": 27
        }
      ]
    },
    {
      "cell_type": "code",
      "metadata": {
        "id": "Ea8xmzPCjFJP",
        "colab_type": "code",
        "colab": {
          "base_uri": "https://localhost:8080/",
          "height": 295
        },
        "outputId": "4ab28748-c4ad-46ea-bbff-8e461816ce27"
      },
      "source": [
        "plt_roc_curve(\"KNN (5)\",KNN,has_proba=True)"
      ],
      "execution_count": null,
      "outputs": [
        {
          "output_type": "display_data",
          "data": {
            "image/png": "[encoded data removed]",
            "text/plain": [
              "<Figure size 432x288 with 1 Axes>"
            ]
          },
          "metadata": {
            "tags": [],
            "needs_background": "light"
          }
        }
      ]
    },
    {
      "cell_type": "markdown",
      "metadata": {
        "id": "b6z15FgWFzH5",
        "colab_type": "text"
      },
      "source": [
        "## XGboost"
      ]
    },
    {
      "cell_type": "code",
      "metadata": {
        "id": "nrB2JEREF4GP",
        "colab_type": "code",
        "colab": {
          "base_uri": "https://localhost:8080/",
          "height": 130
        },
        "outputId": "6cbcf25b-effe-4d23-9dc7-37e5f938b6fc"
      },
      "source": [
        "xgclass = xgb.XGBClassifier(max_depth=100, n_estimators=300, learning_rate=0.001).fit(x_train, y_train)\n",
        "print(\"Accuracy: \" + str(acc_score(xgclass)))\n",
        "confusion_matrix_model(xgclass)"
      ],
      "execution_count": null,
      "outputs": [
        {
          "output_type": "stream",
          "text": [
            "Accuracy: 0.9393080235916772\n"
          ],
          "name": "stdout"
        },
        {
          "output_type": "execute_result",
          "data": {
            "text/html": [
              "<div>\n",
              "<style scoped>\n",
              "    .dataframe tbody tr th:only-of-type {\n",
              "        vertical-align: middle;\n",
              "    }\n",
              "\n",
              "    .dataframe tbody tr th {\n",
              "        vertical-align: top;\n",
              "    }\n",
              "\n",
              "    .dataframe thead th {\n",
              "        text-align: right;\n",
              "    }\n",
              "</style>\n",
              "<table border=\"1\" class=\"dataframe\">\n",
              "  <thead>\n",
              "    <tr style=\"text-align: right;\">\n",
              "      <th></th>\n",
              "      <th>Predicted Incorrect</th>\n",
              "      <th>Predicted Correct</th>\n",
              "    </tr>\n",
              "  </thead>\n",
              "  <tbody>\n",
              "    <tr>\n",
              "      <th>Actual Incorrect</th>\n",
              "      <td>0.68421</td>\n",
              "      <td>0.31579</td>\n",
              "    </tr>\n",
              "    <tr>\n",
              "      <th>Actual Correct</th>\n",
              "      <td>0.01307</td>\n",
              "      <td>0.98693</td>\n",
              "    </tr>\n",
              "  </tbody>\n",
              "</table>\n",
              "</div>"
            ],
            "text/plain": [
              "                  Predicted Incorrect  Predicted Correct\n",
              "Actual Incorrect              0.68421            0.31579\n",
              "Actual Correct                0.01307            0.98693"
            ]
          },
          "metadata": {
            "tags": []
          },
          "execution_count": 45
        }
      ]
    },
    {
      "cell_type": "code",
      "metadata": {
        "id": "KWRYASBFjpYX",
        "colab_type": "code",
        "colab": {
          "base_uri": "https://localhost:8080/",
          "height": 295
        },
        "outputId": "1555c7e1-f2bc-4efa-feab-591047dc270a"
      },
      "source": [
        "plt_roc_curve(\"XGBoosting\",xgclass,has_proba=True)\n"
      ],
      "execution_count": null,
      "outputs": [
        {
          "output_type": "display_data",
          "data": {
            "image/png": "[encoded data removed]",
            "text/plain": [
              "<Figure size 432x288 with 1 Axes>"
            ]
          },
          "metadata": {
            "tags": [],
            "needs_background": "light"
          }
        }
      ]
    },
    {
      "cell_type": "markdown",
      "metadata": {
        "id": "7Mr2arWdkFNM",
        "colab_type": "text"
      },
      "source": [
        "## Compare accuracy and AUC score"
      ]
    },
    {
      "cell_type": "code",
      "metadata": {
        "id": "CAN9ByWCkRqi",
        "colab_type": "code",
        "colab": {
          "base_uri": "https://localhost:8080/",
          "height": 206
        },
        "outputId": "18155115-c845-4422-e6a6-206d44c66a86"
      },
      "source": [
        "Classifiers=[\"Logistic Regression\",\"K-Nearest Neighbours\",\"Decision Tree\",\"Random Forest\",\"XGBoost\"]\n",
        "Acc=[acc_score(x) for x in [log_reg,KNN,Dec_tree,ranfor,xgclass]]\n",
        "auc_scores_prob=[aucscore(x,has_proba=True) for x in [log_reg,KNN,Dec_tree,ranfor,xgclass]]\n",
        "auc_scores=auc_scores_prob\n",
        "cols=[\"Classifier\",\"Accuracy\",\"AUC\"]\n",
        "results = pd.DataFrame(columns=cols)\n",
        "results[\"Classifier\"]=Classifiers\n",
        "results[\"Accuracy\"]=Acc\n",
        "results[\"AUC\"]=auc_scores\n",
        "results"
      ],
      "execution_count": null,
      "outputs": [
        {
          "output_type": "execute_result",
          "data": {
            "text/html": [
              "<div>\n",
              "<style scoped>\n",
              "    .dataframe tbody tr th:only-of-type {\n",
              "        vertical-align: middle;\n",
              "    }\n",
              "\n",
              "    .dataframe tbody tr th {\n",
              "        vertical-align: top;\n",
              "    }\n",
              "\n",
              "    .dataframe thead th {\n",
              "        text-align: right;\n",
              "    }\n",
              "</style>\n",
              "<table border=\"1\" class=\"dataframe\">\n",
              "  <thead>\n",
              "    <tr style=\"text-align: right;\">\n",
              "      <th></th>\n",
              "      <th>Classifier</th>\n",
              "      <th>Accuracy</th>\n",
              "      <th>AUC</th>\n",
              "    </tr>\n",
              "  </thead>\n",
              "  <tbody>\n",
              "    <tr>\n",
              "      <th>0</th>\n",
              "      <td>Logistic Regression</td>\n",
              "      <td>0.902258</td>\n",
              "      <td>0.583419</td>\n",
              "    </tr>\n",
              "    <tr>\n",
              "      <th>1</th>\n",
              "      <td>K-Nearest Neighbours</td>\n",
              "      <td>0.897142</td>\n",
              "      <td>0.605607</td>\n",
              "    </tr>\n",
              "    <tr>\n",
              "      <th>2</th>\n",
              "      <td>Decision Tree</td>\n",
              "      <td>0.929840</td>\n",
              "      <td>0.881493</td>\n",
              "    </tr>\n",
              "    <tr>\n",
              "      <th>3</th>\n",
              "      <td>Random Forest</td>\n",
              "      <td>0.921253</td>\n",
              "      <td>0.921225</td>\n",
              "    </tr>\n",
              "    <tr>\n",
              "      <th>4</th>\n",
              "      <td>XGBoost</td>\n",
              "      <td>0.939308</td>\n",
              "      <td>0.934985</td>\n",
              "    </tr>\n",
              "  </tbody>\n",
              "</table>\n",
              "</div>"
            ],
            "text/plain": [
              "             Classifier  Accuracy       AUC\n",
              "0   Logistic Regression  0.902258  0.583419\n",
              "1  K-Nearest Neighbours  0.897142  0.605607\n",
              "2         Decision Tree  0.929840  0.881493\n",
              "3         Random Forest  0.921253  0.921225\n",
              "4               XGBoost  0.939308  0.934985"
            ]
          },
          "metadata": {
            "tags": []
          },
          "execution_count": 47
        }
      ]
    },
    {
      "cell_type": "code",
      "metadata": {
        "id": "uBmDwVP6G4g9",
        "colab_type": "code",
        "colab": {
          "base_uri": "https://localhost:8080/",
          "height": 313
        },
        "outputId": "6cdc041f-1ba0-42cd-9a71-8864abe77da3"
      },
      "source": [
        "test.head()"
      ],
      "execution_count": null,
      "outputs": [
        {
          "output_type": "execute_result",
          "data": {
            "text/html": [
              "<div>\n",
              "<style scoped>\n",
              "    .dataframe tbody tr th:only-of-type {\n",
              "        vertical-align: middle;\n",
              "    }\n",
              "\n",
              "    .dataframe tbody tr th {\n",
              "        vertical-align: top;\n",
              "    }\n",
              "\n",
              "    .dataframe thead th {\n",
              "        text-align: right;\n",
              "    }\n",
              "</style>\n",
              "<table border=\"1\" class=\"dataframe\">\n",
              "  <thead>\n",
              "    <tr style=\"text-align: right;\">\n",
              "      <th></th>\n",
              "      <th>tripid</th>\n",
              "      <th>additional_fare</th>\n",
              "      <th>duration</th>\n",
              "      <th>meter_waiting</th>\n",
              "      <th>meter_waiting_fare</th>\n",
              "      <th>meter_waiting_till_pickup</th>\n",
              "      <th>pickup_time</th>\n",
              "      <th>drop_time</th>\n",
              "      <th>pick_lat</th>\n",
              "      <th>pick_lon</th>\n",
              "      <th>drop_lat</th>\n",
              "      <th>drop_lon</th>\n",
              "      <th>fare</th>\n",
              "    </tr>\n",
              "  </thead>\n",
              "  <tbody>\n",
              "    <tr>\n",
              "      <th>0</th>\n",
              "      <td>213284604</td>\n",
              "      <td>10.5</td>\n",
              "      <td>924</td>\n",
              "      <td>42</td>\n",
              "      <td>2.4486</td>\n",
              "      <td>148</td>\n",
              "      <td>2/1/2020 0:38</td>\n",
              "      <td>2/1/2020 0:53</td>\n",
              "      <td>6.83454</td>\n",
              "      <td>79.8750</td>\n",
              "      <td>6.77490</td>\n",
              "      <td>79.8840</td>\n",
              "      <td>289.27</td>\n",
              "    </tr>\n",
              "    <tr>\n",
              "      <th>1</th>\n",
              "      <td>213286352</td>\n",
              "      <td>10.5</td>\n",
              "      <td>4249</td>\n",
              "      <td>20</td>\n",
              "      <td>0.0000</td>\n",
              "      <td>91</td>\n",
              "      <td>2/1/2020 1:02</td>\n",
              "      <td>2/1/2020 2:13</td>\n",
              "      <td>6.91168</td>\n",
              "      <td>79.8723</td>\n",
              "      <td>6.55091</td>\n",
              "      <td>79.9706</td>\n",
              "      <td>1912.70</td>\n",
              "    </tr>\n",
              "    <tr>\n",
              "      <th>2</th>\n",
              "      <td>213293973</td>\n",
              "      <td>10.5</td>\n",
              "      <td>1552</td>\n",
              "      <td>255</td>\n",
              "      <td>2.6588</td>\n",
              "      <td>23</td>\n",
              "      <td>2/1/2020 5:02</td>\n",
              "      <td>2/1/2020 5:28</td>\n",
              "      <td>6.92145</td>\n",
              "      <td>79.8478</td>\n",
              "      <td>6.90539</td>\n",
              "      <td>79.8989</td>\n",
              "      <td>394.00</td>\n",
              "    </tr>\n",
              "    <tr>\n",
              "      <th>3</th>\n",
              "      <td>213294622</td>\n",
              "      <td>10.5</td>\n",
              "      <td>462</td>\n",
              "      <td>16</td>\n",
              "      <td>0.0000</td>\n",
              "      <td>198</td>\n",
              "      <td>2/1/2020 5:30</td>\n",
              "      <td>2/1/2020 5:38</td>\n",
              "      <td>6.77433</td>\n",
              "      <td>79.9416</td>\n",
              "      <td>6.80401</td>\n",
              "      <td>79.9407</td>\n",
              "      <td>154.32</td>\n",
              "    </tr>\n",
              "    <tr>\n",
              "      <th>4</th>\n",
              "      <td>213298687</td>\n",
              "      <td>10.5</td>\n",
              "      <td>814</td>\n",
              "      <td>392</td>\n",
              "      <td>12.3692</td>\n",
              "      <td>69</td>\n",
              "      <td>2/1/2020 7:00</td>\n",
              "      <td>2/1/2020 7:14</td>\n",
              "      <td>6.97968</td>\n",
              "      <td>79.9130</td>\n",
              "      <td>6.98875</td>\n",
              "      <td>79.8914</td>\n",
              "      <td>147.47</td>\n",
              "    </tr>\n",
              "  </tbody>\n",
              "</table>\n",
              "</div>"
            ],
            "text/plain": [
              "      tripid  additional_fare  duration  ...  drop_lat  drop_lon     fare\n",
              "0  213284604             10.5       924  ...   6.77490   79.8840   289.27\n",
              "1  213286352             10.5      4249  ...   6.55091   79.9706  1912.70\n",
              "2  213293973             10.5      1552  ...   6.90539   79.8989   394.00\n",
              "3  213294622             10.5       462  ...   6.80401   79.9407   154.32\n",
              "4  213298687             10.5       814  ...   6.98875   79.8914   147.47\n",
              "\n",
              "[5 rows x 13 columns]"
            ]
          },
          "metadata": {
            "tags": []
          },
          "execution_count": 32
        }
      ]
    },
    {
      "cell_type": "code",
      "metadata": {
        "id": "9IaeEm96HMSL",
        "colab_type": "code",
        "colab": {
          "base_uri": "https://localhost:8080/",
          "height": 253
        },
        "outputId": "79f200d7-4e3e-4946-c874-e6a2f6581c9e"
      },
      "source": [
        "for i in test.columns:\n",
        "    print (i + \": \"+str(sum(test[i].isnull()))+\" missing values\")"
      ],
      "execution_count": null,
      "outputs": [
        {
          "output_type": "stream",
          "text": [
            "tripid: 0 missing values\n",
            "additional_fare: 0 missing values\n",
            "duration: 0 missing values\n",
            "meter_waiting: 0 missing values\n",
            "meter_waiting_fare: 0 missing values\n",
            "meter_waiting_till_pickup: 0 missing values\n",
            "pickup_time: 0 missing values\n",
            "drop_time: 0 missing values\n",
            "pick_lat: 0 missing values\n",
            "pick_lon: 0 missing values\n",
            "drop_lat: 0 missing values\n",
            "drop_lon: 0 missing values\n",
            "fare: 0 missing values\n"
          ],
          "name": "stdout"
        }
      ]
    },
    {
      "cell_type": "code",
      "metadata": {
        "id": "qTvpl39FH5o9",
        "colab_type": "code",
        "colab": {
          "base_uri": "https://localhost:8080/",
          "height": 226
        },
        "outputId": "a1964b12-205f-4c32-c567-6071a237383b"
      },
      "source": [
        "test.drop(['pickup_time','drop_time'],inplace=True,axis=1)\n",
        "test.tail()"
      ],
      "execution_count": null,
      "outputs": [
        {
          "output_type": "execute_result",
          "data": {
            "text/html": [
              "<div>\n",
              "<style scoped>\n",
              "    .dataframe tbody tr th:only-of-type {\n",
              "        vertical-align: middle;\n",
              "    }\n",
              "\n",
              "    .dataframe tbody tr th {\n",
              "        vertical-align: top;\n",
              "    }\n",
              "\n",
              "    .dataframe thead th {\n",
              "        text-align: right;\n",
              "    }\n",
              "</style>\n",
              "<table border=\"1\" class=\"dataframe\">\n",
              "  <thead>\n",
              "    <tr style=\"text-align: right;\">\n",
              "      <th></th>\n",
              "      <th>tripid</th>\n",
              "      <th>additional_fare</th>\n",
              "      <th>duration</th>\n",
              "      <th>meter_waiting</th>\n",
              "      <th>meter_waiting_fare</th>\n",
              "      <th>meter_waiting_till_pickup</th>\n",
              "      <th>pick_lat</th>\n",
              "      <th>pick_lon</th>\n",
              "      <th>drop_lat</th>\n",
              "      <th>drop_lon</th>\n",
              "      <th>fare</th>\n",
              "    </tr>\n",
              "  </thead>\n",
              "  <tbody>\n",
              "    <tr>\n",
              "      <th>8571</th>\n",
              "      <td>222856243</td>\n",
              "      <td>10.5</td>\n",
              "      <td>1723</td>\n",
              "      <td>429</td>\n",
              "      <td>24.83332</td>\n",
              "      <td>3</td>\n",
              "      <td>6.85103</td>\n",
              "      <td>79.9567</td>\n",
              "      <td>6.85588</td>\n",
              "      <td>79.9214</td>\n",
              "      <td>388.48</td>\n",
              "    </tr>\n",
              "    <tr>\n",
              "      <th>8572</th>\n",
              "      <td>222857785</td>\n",
              "      <td>10.5</td>\n",
              "      <td>1378</td>\n",
              "      <td>80</td>\n",
              "      <td>0.00000</td>\n",
              "      <td>125</td>\n",
              "      <td>6.91293</td>\n",
              "      <td>79.9656</td>\n",
              "      <td>6.92112</td>\n",
              "      <td>79.8980</td>\n",
              "      <td>379.85</td>\n",
              "    </tr>\n",
              "    <tr>\n",
              "      <th>8573</th>\n",
              "      <td>222858416</td>\n",
              "      <td>10.5</td>\n",
              "      <td>418</td>\n",
              "      <td>56</td>\n",
              "      <td>3.28440</td>\n",
              "      <td>93</td>\n",
              "      <td>6.85718</td>\n",
              "      <td>79.9081</td>\n",
              "      <td>6.83868</td>\n",
              "      <td>79.9083</td>\n",
              "      <td>112.79</td>\n",
              "    </tr>\n",
              "    <tr>\n",
              "      <th>8574</th>\n",
              "      <td>222858691</td>\n",
              "      <td>10.5</td>\n",
              "      <td>1604</td>\n",
              "      <td>548</td>\n",
              "      <td>31.67440</td>\n",
              "      <td>17</td>\n",
              "      <td>6.91289</td>\n",
              "      <td>79.8846</td>\n",
              "      <td>6.93159</td>\n",
              "      <td>79.9145</td>\n",
              "      <td>248.46</td>\n",
              "    </tr>\n",
              "    <tr>\n",
              "      <th>8575</th>\n",
              "      <td>222860703</td>\n",
              "      <td>10.5</td>\n",
              "      <td>1698</td>\n",
              "      <td>691</td>\n",
              "      <td>32.88820</td>\n",
              "      <td>42</td>\n",
              "      <td>6.91682</td>\n",
              "      <td>79.9192</td>\n",
              "      <td>6.87020</td>\n",
              "      <td>79.9340</td>\n",
              "      <td>339.63</td>\n",
              "    </tr>\n",
              "  </tbody>\n",
              "</table>\n",
              "</div>"
            ],
            "text/plain": [
              "         tripid  additional_fare  duration  ...  drop_lat  drop_lon    fare\n",
              "8571  222856243             10.5      1723  ...   6.85588   79.9214  388.48\n",
              "8572  222857785             10.5      1378  ...   6.92112   79.8980  379.85\n",
              "8573  222858416             10.5       418  ...   6.83868   79.9083  112.79\n",
              "8574  222858691             10.5      1604  ...   6.93159   79.9145  248.46\n",
              "8575  222860703             10.5      1698  ...   6.87020   79.9340  339.63\n",
              "\n",
              "[5 rows x 11 columns]"
            ]
          },
          "metadata": {
            "tags": []
          },
          "execution_count": 34
        }
      ]
    },
    {
      "cell_type": "code",
      "metadata": {
        "id": "4rwW07qGHgDe",
        "colab_type": "code",
        "colab": {}
      },
      "source": [
        "pred_test=xgclass.predict(test)\n",
        "submission=pd.DataFrame({\"tripid\": test[\"tripid\"], \"prediction\": pred_test})\n",
        "submission.to_csv(\"submission.csv\",index=False)\n",
        "\n"
      ],
      "execution_count": null,
      "outputs": []
    },
    {
      "cell_type": "code",
      "metadata": {
        "id": "qaWy0a0AnMca",
        "colab_type": "code",
        "colab": {}
      },
      "source": [
        "score=xgclass.predict(test)"
      ],
      "execution_count": null,
      "outputs": []
    }
  ]
}